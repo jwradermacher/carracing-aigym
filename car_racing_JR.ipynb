{
 "cells": [
  {
   "cell_type": "markdown",
   "metadata": {},
   "source": [
    "## Open Questions\n",
    "\n",
    "- why does the car stop after a certain amount of time?"
   ]
  },
  {
   "cell_type": "markdown",
   "metadata": {},
   "source": [
    "# Import gym"
   ]
  },
  {
   "cell_type": "code",
   "execution_count": 1,
   "metadata": {},
   "outputs": [],
   "source": [
    "# gym is a toolkit for making reinforcement learning easier\n",
    "import gym\n",
    "import numpy as np\n",
    "import random"
   ]
  },
  {
   "cell_type": "markdown",
   "metadata": {},
   "source": [
    "# Create the environment"
   ]
  },
  {
   "cell_type": "code",
   "execution_count": 2,
   "metadata": {},
   "outputs": [
    {
     "name": "stderr",
     "output_type": "stream",
     "text": [
      "/Users/ue77sh/anaconda3/envs/aigym/lib/python3.8/site-packages/gym/logger.py:30: UserWarning: \u001b[33mWARN: Box bound precision lowered by casting to float32\u001b[0m\n",
      "  warnings.warn(colorize('%s: %s'%('WARN', msg % args), 'yellow'))\n"
     ]
    }
   ],
   "source": [
    "# Choose the environment, track racing, robot walking....\n",
    "env = gym.make('CarRacing-v0')"
   ]
  },
  {
   "cell_type": "code",
   "execution_count": 28,
   "metadata": {},
   "outputs": [],
   "source": [
    "# random.seed(17)"
   ]
  },
  {
   "cell_type": "markdown",
   "metadata": {},
   "source": [
    "# Simulate, learn\n",
    "\n",
    "* Your code here to replace the section in red and 4 lines below"
   ]
  },
  {
   "cell_type": "markdown",
   "metadata": {},
   "source": [
    "### Try completely own code"
   ]
  },
  {
   "cell_type": "code",
   "execution_count": 33,
   "metadata": {},
   "outputs": [
    {
     "name": "stdout",
     "output_type": "stream",
     "text": [
      "Track generation: 1066..1344 -> 278-tiles track\n",
      "Iteration:  0 Observation:  (96, 96, 3) Reward:  7.120216606498195 Done?:  False\n",
      "Iteration:  1 Observation:  (96, 96, 3) Reward:  -0.09999999999999964 Done?:  False\n",
      "Iteration:  2 Observation:  (96, 96, 3) Reward:  -0.09999999999999964 Done?:  False\n",
      "Iteration:  3 Observation:  (96, 96, 3) Reward:  -0.09999999999999964 Done?:  False\n",
      "Iteration:  4 Observation:  (96, 96, 3) Reward:  -0.09999999999999964 Done?:  False\n",
      "Iteration:  5 Observation:  (96, 96, 3) Reward:  -0.09999999999999964 Done?:  False\n",
      "Iteration:  6 Observation:  (96, 96, 3) Reward:  -0.09999999999999964 Done?:  False\n",
      "Iteration:  7 Observation:  (96, 96, 3) Reward:  -0.09999999999999964 Done?:  False\n",
      "Iteration:  8 Observation:  (96, 96, 3) Reward:  -0.09999999999999964 Done?:  False\n",
      "Iteration:  9 Observation:  (96, 96, 3) Reward:  -0.09999999999999964 Done?:  False\n",
      "Iteration:  10 Observation:  (96, 96, 3) Reward:  3.5101083032490976 Done?:  False\n",
      "Iteration:  11 Observation:  (96, 96, 3) Reward:  -0.09999999999999964 Done?:  False\n",
      "Iteration:  12 Observation:  (96, 96, 3) Reward:  -0.09999999999999964 Done?:  False\n",
      "Iteration:  13 Observation:  (96, 96, 3) Reward:  -0.09999999999999964 Done?:  False\n",
      "Iteration:  14 Observation:  (96, 96, 3) Reward:  -0.09999999999999964 Done?:  False\n",
      "Iteration:  15 Observation:  (96, 96, 3) Reward:  -0.09999999999999964 Done?:  False\n",
      "Iteration:  16 Observation:  (96, 96, 3) Reward:  -0.09999999999999964 Done?:  False\n",
      "Iteration:  17 Observation:  (96, 96, 3) Reward:  -0.09999999999999964 Done?:  False\n",
      "Iteration:  18 Observation:  (96, 96, 3) Reward:  -0.09999999999999964 Done?:  False\n",
      "Iteration:  19 Observation:  (96, 96, 3) Reward:  -0.09999999999999964 Done?:  False\n",
      "Iteration:  20 Observation:  (96, 96, 3) Reward:  -0.09999999999999964 Done?:  False\n",
      "Iteration:  21 Observation:  (96, 96, 3) Reward:  -0.09999999999999964 Done?:  False\n",
      "Iteration:  22 Observation:  (96, 96, 3) Reward:  3.5101083032490976 Done?:  False\n",
      "Iteration:  23 Observation:  (96, 96, 3) Reward:  -0.09999999999999964 Done?:  False\n",
      "Iteration:  24 Observation:  (96, 96, 3) Reward:  -0.09999999999999964 Done?:  False\n",
      "Iteration:  25 Observation:  (96, 96, 3) Reward:  -0.09999999999999964 Done?:  False\n",
      "Iteration:  26 Observation:  (96, 96, 3) Reward:  -0.09999999999999964 Done?:  False\n",
      "Iteration:  27 Observation:  (96, 96, 3) Reward:  -0.09999999999999964 Done?:  False\n",
      "Iteration:  28 Observation:  (96, 96, 3) Reward:  -0.09999999999999964 Done?:  False\n",
      "Iteration:  29 Observation:  (96, 96, 3) Reward:  3.5101083032490976 Done?:  False\n",
      "Iteration:  30 Observation:  (96, 96, 3) Reward:  -0.09999999999999964 Done?:  False\n",
      "Iteration:  31 Observation:  (96, 96, 3) Reward:  -0.09999999999999964 Done?:  False\n",
      "Iteration:  32 Observation:  (96, 96, 3) Reward:  -0.09999999999999964 Done?:  False\n",
      "Iteration:  33 Observation:  (96, 96, 3) Reward:  -0.09999999999999964 Done?:  False\n",
      "Iteration:  34 Observation:  (96, 96, 3) Reward:  -0.09999999999999964 Done?:  False\n",
      "Iteration:  35 Observation:  (96, 96, 3) Reward:  3.510108303249094 Done?:  False\n",
      "Iteration:  36 Observation:  (96, 96, 3) Reward:  -0.10000000000000142 Done?:  False\n",
      "Iteration:  37 Observation:  (96, 96, 3) Reward:  -0.10000000000000142 Done?:  False\n",
      "Iteration:  38 Observation:  (96, 96, 3) Reward:  -0.10000000000000142 Done?:  False\n",
      "Iteration:  39 Observation:  (96, 96, 3) Reward:  -0.10000000000000142 Done?:  False\n",
      "Iteration:  40 Observation:  (96, 96, 3) Reward:  3.5101083032490976 Done?:  False\n",
      "Iteration:  41 Observation:  (96, 96, 3) Reward:  -0.10000000000000142 Done?:  False\n",
      "Iteration:  42 Observation:  (96, 96, 3) Reward:  -0.10000000000000142 Done?:  False\n",
      "Iteration:  43 Observation:  (96, 96, 3) Reward:  -0.10000000000000142 Done?:  False\n",
      "Iteration:  44 Observation:  (96, 96, 3) Reward:  3.5101083032490976 Done?:  False\n",
      "Iteration:  45 Observation:  (96, 96, 3) Reward:  -0.10000000000000142 Done?:  False\n",
      "Iteration:  46 Observation:  (96, 96, 3) Reward:  -0.10000000000000142 Done?:  False\n",
      "Iteration:  47 Observation:  (96, 96, 3) Reward:  -0.10000000000000142 Done?:  False\n",
      "Iteration:  48 Observation:  (96, 96, 3) Reward:  -0.10000000000000142 Done?:  False\n",
      "Iteration:  49 Observation:  (96, 96, 3) Reward:  3.5101083032490976 Done?:  False\n",
      "27.49097472924187\n"
     ]
    }
   ],
   "source": [
    "random.seed(1)\n",
    "total_reward = 0\n",
    "\n",
    "# Outer loop is for multiple simulations (increase for learning over a long time)\n",
    "for i in range(1):\n",
    "    env.reset() # Reset to start a new simulation\n",
    "    \n",
    "    \n",
    "    # Inner loop for simulating the environment:\n",
    "    # 1. Observe 2. Take action 3. Read reward 4. Learn 1. Observe ...\n",
    "    for i in range(50):\n",
    "        #print(i)\n",
    "        env.render() # For seeing the simulation step\n",
    "        \n",
    "        \n",
    "        \n",
    "        \"\"\"--------------------------------------------\"\"\"\n",
    "        \"\"\"YOUR ALGORITHM GOES HERE.\n",
    "        YOU CAN IMPORT YOUR CODE OR WRITE IT HERE DIRECTLY\n",
    "        HERE IS AN EXAMPLE\"\"\"\n",
    "        \n",
    "        \n",
    "        \n",
    "        if(i > 75 and i < 95):\n",
    "            observation, reward, done, info = env.step([-0.99, 0.5, 0.1])\n",
    "        else:\n",
    "            #observation, reward, done, info = env.step([0., 0.5, 0.1])\n",
    "            observation, reward, done, info = env.step([0., 0.5, 0])\n",
    "            \n",
    "            \n",
    "            \n",
    "        \"\"\"--------------------------------------------\"\"\"\n",
    "            \n",
    "        # Print the observations, rewards, whether the round has ended\n",
    "        print(\"Iteration: \", i,\n",
    "            \"Observation: \", observation.shape,\n",
    "              \"Reward: \", reward,\n",
    "              \"Done?: \", done)\n",
    "        \n",
    "        if i < 2000: # Calculate reward for only first 2000 episodes\n",
    "            total_reward += reward\n",
    "        \n",
    "        if done: # Car steered off stop the simulation and restart it\n",
    "            break\n",
    "            \n",
    "print(total_reward)"
   ]
  },
  {
   "cell_type": "code",
   "execution_count": null,
   "metadata": {},
   "outputs": [],
   "source": []
  },
  {
   "cell_type": "code",
   "execution_count": null,
   "metadata": {},
   "outputs": [],
   "source": []
  },
  {
   "cell_type": "code",
   "execution_count": null,
   "metadata": {},
   "outputs": [],
   "source": []
  },
  {
   "cell_type": "code",
   "execution_count": null,
   "metadata": {},
   "outputs": [],
   "source": []
  },
  {
   "cell_type": "code",
   "execution_count": null,
   "metadata": {},
   "outputs": [],
   "source": []
  },
  {
   "cell_type": "code",
   "execution_count": null,
   "metadata": {},
   "outputs": [],
   "source": []
  },
  {
   "cell_type": "code",
   "execution_count": null,
   "metadata": {},
   "outputs": [],
   "source": []
  },
  {
   "cell_type": "code",
   "execution_count": null,
   "metadata": {},
   "outputs": [],
   "source": []
  },
  {
   "cell_type": "code",
   "execution_count": null,
   "metadata": {},
   "outputs": [],
   "source": []
  },
  {
   "cell_type": "code",
   "execution_count": null,
   "metadata": {},
   "outputs": [],
   "source": []
  },
  {
   "cell_type": "code",
   "execution_count": null,
   "metadata": {},
   "outputs": [],
   "source": []
  },
  {
   "cell_type": "code",
   "execution_count": null,
   "metadata": {},
   "outputs": [],
   "source": []
  },
  {
   "cell_type": "code",
   "execution_count": null,
   "metadata": {},
   "outputs": [],
   "source": []
  },
  {
   "cell_type": "code",
   "execution_count": null,
   "metadata": {},
   "outputs": [],
   "source": []
  },
  {
   "cell_type": "code",
   "execution_count": null,
   "metadata": {},
   "outputs": [],
   "source": []
  },
  {
   "cell_type": "code",
   "execution_count": null,
   "metadata": {},
   "outputs": [],
   "source": []
  },
  {
   "cell_type": "code",
   "execution_count": null,
   "metadata": {},
   "outputs": [],
   "source": []
  },
  {
   "cell_type": "code",
   "execution_count": null,
   "metadata": {},
   "outputs": [],
   "source": []
  },
  {
   "cell_type": "code",
   "execution_count": null,
   "metadata": {},
   "outputs": [],
   "source": []
  },
  {
   "cell_type": "markdown",
   "metadata": {},
   "source": [
    "## Initialize Q-table"
   ]
  },
  {
   "cell_type": "code",
   "execution_count": null,
   "metadata": {},
   "outputs": [],
   "source": [
    "## JR: Initialize q-table here\n",
    "# Q = np.zeros((state_size, action_size))"
   ]
  },
  {
   "cell_type": "markdown",
   "metadata": {},
   "source": [
    "## Change parameters"
   ]
  },
  {
   "cell_type": "code",
   "execution_count": 42,
   "metadata": {},
   "outputs": [],
   "source": [
    "loop2 = 1000 #250\n",
    "condition1 = 125 #120\n",
    "condition2 = 135 #140"
   ]
  },
  {
   "cell_type": "code",
   "execution_count": 44,
   "metadata": {},
   "outputs": [],
   "source": [
    "?env.step"
   ]
  },
  {
   "cell_type": "markdown",
   "metadata": {},
   "source": [
    "## Original Code"
   ]
  },
  {
   "cell_type": "code",
   "execution_count": 43,
   "metadata": {},
   "outputs": [
    {
     "name": "stdout",
     "output_type": "stream",
     "text": [
      "Track generation: 1086..1364 -> 278-tiles track\n",
      "retry to generate track (normal if there are not many of this messages)\n",
      "Track generation: 871..1099 -> 228-tiles track\n",
      "Observation:  (96, 96, 3) Reward:  8.71057268722467 Done?:  False\n",
      "Observation:  (96, 96, 3) Reward:  -0.09999999999999964 Done?:  False\n",
      "Observation:  (96, 96, 3) Reward:  -0.09999999999999964 Done?:  False\n",
      "Observation:  (96, 96, 3) Reward:  -0.09999999999999964 Done?:  False\n",
      "Observation:  (96, 96, 3) Reward:  -0.09999999999999964 Done?:  False\n",
      "Observation:  (96, 96, 3) Reward:  -0.09999999999999964 Done?:  False\n",
      "Observation:  (96, 96, 3) Reward:  -0.09999999999999964 Done?:  False\n",
      "Observation:  (96, 96, 3) Reward:  -0.09999999999999964 Done?:  False\n",
      "Observation:  (96, 96, 3) Reward:  -0.09999999999999964 Done?:  False\n",
      "Observation:  (96, 96, 3) Reward:  -0.09999999999999964 Done?:  False\n",
      "Observation:  (96, 96, 3) Reward:  -0.09999999999999964 Done?:  False\n",
      "Observation:  (96, 96, 3) Reward:  -0.09999999999999964 Done?:  False\n",
      "Observation:  (96, 96, 3) Reward:  4.305286343612334 Done?:  False\n",
      "Observation:  (96, 96, 3) Reward:  -0.09999999999999964 Done?:  False\n",
      "Observation:  (96, 96, 3) Reward:  -0.09999999999999964 Done?:  False\n",
      "Observation:  (96, 96, 3) Reward:  -0.09999999999999964 Done?:  False\n",
      "Observation:  (96, 96, 3) Reward:  -0.09999999999999964 Done?:  False\n",
      "Observation:  (96, 96, 3) Reward:  -0.09999999999999964 Done?:  False\n",
      "Observation:  (96, 96, 3) Reward:  -0.09999999999999964 Done?:  False\n",
      "Observation:  (96, 96, 3) Reward:  -0.09999999999999964 Done?:  False\n",
      "Observation:  (96, 96, 3) Reward:  -0.09999999999999964 Done?:  False\n",
      "Observation:  (96, 96, 3) Reward:  -0.09999999999999964 Done?:  False\n",
      "Observation:  (96, 96, 3) Reward:  -0.09999999999999964 Done?:  False\n",
      "Observation:  (96, 96, 3) Reward:  -0.09999999999999964 Done?:  False\n",
      "Observation:  (96, 96, 3) Reward:  -0.09999999999999964 Done?:  False\n",
      "Observation:  (96, 96, 3) Reward:  -0.09999999999999964 Done?:  False\n",
      "Observation:  (96, 96, 3) Reward:  -0.09999999999999964 Done?:  False\n",
      "Observation:  (96, 96, 3) Reward:  -0.09999999999999964 Done?:  False\n",
      "Observation:  (96, 96, 3) Reward:  -0.09999999999999964 Done?:  False\n",
      "Observation:  (96, 96, 3) Reward:  4.305286343612334 Done?:  False\n",
      "Observation:  (96, 96, 3) Reward:  -0.09999999999999964 Done?:  False\n",
      "Observation:  (96, 96, 3) Reward:  -0.09999999999999964 Done?:  False\n",
      "Observation:  (96, 96, 3) Reward:  -0.09999999999999964 Done?:  False\n",
      "Observation:  (96, 96, 3) Reward:  -0.09999999999999964 Done?:  False\n",
      "Observation:  (96, 96, 3) Reward:  -0.09999999999999964 Done?:  False\n",
      "Observation:  (96, 96, 3) Reward:  -0.09999999999999964 Done?:  False\n",
      "Observation:  (96, 96, 3) Reward:  -0.09999999999999964 Done?:  False\n",
      "Observation:  (96, 96, 3) Reward:  -0.09999999999999964 Done?:  False\n",
      "Observation:  (96, 96, 3) Reward:  -0.09999999999999964 Done?:  False\n",
      "Observation:  (96, 96, 3) Reward:  4.305286343612334 Done?:  False\n",
      "Observation:  (96, 96, 3) Reward:  -0.10000000000000142 Done?:  False\n",
      "Observation:  (96, 96, 3) Reward:  -0.10000000000000142 Done?:  False\n",
      "Observation:  (96, 96, 3) Reward:  -0.10000000000000142 Done?:  False\n",
      "Observation:  (96, 96, 3) Reward:  -0.10000000000000142 Done?:  False\n",
      "Observation:  (96, 96, 3) Reward:  -0.10000000000000142 Done?:  False\n",
      "Observation:  (96, 96, 3) Reward:  -0.10000000000000142 Done?:  False\n",
      "Observation:  (96, 96, 3) Reward:  -0.10000000000000142 Done?:  False\n",
      "Observation:  (96, 96, 3) Reward:  -0.10000000000000142 Done?:  False\n",
      "Observation:  (96, 96, 3) Reward:  4.305286343612334 Done?:  False\n",
      "Observation:  (96, 96, 3) Reward:  -0.10000000000000142 Done?:  False\n",
      "Observation:  (96, 96, 3) Reward:  -0.10000000000000142 Done?:  False\n",
      "Observation:  (96, 96, 3) Reward:  -0.10000000000000142 Done?:  False\n",
      "Observation:  (96, 96, 3) Reward:  -0.10000000000000142 Done?:  False\n",
      "Observation:  (96, 96, 3) Reward:  -0.10000000000000142 Done?:  False\n",
      "Observation:  (96, 96, 3) Reward:  -0.10000000000000142 Done?:  False\n",
      "Observation:  (96, 96, 3) Reward:  -0.10000000000000142 Done?:  False\n",
      "Observation:  (96, 96, 3) Reward:  4.305286343612334 Done?:  False\n",
      "Observation:  (96, 96, 3) Reward:  -0.10000000000000142 Done?:  False\n",
      "Observation:  (96, 96, 3) Reward:  -0.10000000000000142 Done?:  False\n",
      "Observation:  (96, 96, 3) Reward:  -0.10000000000000142 Done?:  False\n",
      "Observation:  (96, 96, 3) Reward:  -0.10000000000000142 Done?:  False\n",
      "Observation:  (96, 96, 3) Reward:  -0.10000000000000142 Done?:  False\n",
      "Observation:  (96, 96, 3) Reward:  4.305286343612334 Done?:  False\n",
      "Observation:  (96, 96, 3) Reward:  -0.10000000000000142 Done?:  False\n",
      "Observation:  (96, 96, 3) Reward:  -0.10000000000000142 Done?:  False\n",
      "Observation:  (96, 96, 3) Reward:  -0.10000000000000142 Done?:  False\n",
      "Observation:  (96, 96, 3) Reward:  -0.10000000000000142 Done?:  False\n",
      "Observation:  (96, 96, 3) Reward:  -0.10000000000000142 Done?:  False\n",
      "Observation:  (96, 96, 3) Reward:  -0.10000000000000142 Done?:  False\n",
      "Observation:  (96, 96, 3) Reward:  4.30528634361233 Done?:  False\n",
      "Observation:  (96, 96, 3) Reward:  -0.10000000000000142 Done?:  False\n",
      "Observation:  (96, 96, 3) Reward:  -0.10000000000000142 Done?:  False\n",
      "Observation:  (96, 96, 3) Reward:  -0.10000000000000142 Done?:  False\n",
      "Observation:  (96, 96, 3) Reward:  -0.10000000000000142 Done?:  False\n",
      "Observation:  (96, 96, 3) Reward:  4.30528634361233 Done?:  False\n",
      "Observation:  (96, 96, 3) Reward:  -0.10000000000000142 Done?:  False\n",
      "Observation:  (96, 96, 3) Reward:  -0.10000000000000142 Done?:  False\n",
      "Observation:  (96, 96, 3) Reward:  -0.10000000000000142 Done?:  False\n",
      "Observation:  (96, 96, 3) Reward:  -0.10000000000000142 Done?:  False\n",
      "Observation:  (96, 96, 3) Reward:  -0.10000000000000142 Done?:  False\n",
      "Observation:  (96, 96, 3) Reward:  4.30528634361233 Done?:  False\n",
      "Observation:  (96, 96, 3) Reward:  -0.10000000000000142 Done?:  False\n",
      "Observation:  (96, 96, 3) Reward:  -0.10000000000000142 Done?:  False\n",
      "Observation:  (96, 96, 3) Reward:  -0.10000000000000142 Done?:  False\n",
      "Observation:  (96, 96, 3) Reward:  -0.10000000000000142 Done?:  False\n",
      "Observation:  (96, 96, 3) Reward:  4.30528634361233 Done?:  False\n",
      "Observation:  (96, 96, 3) Reward:  -0.10000000000000142 Done?:  False\n",
      "Observation:  (96, 96, 3) Reward:  -0.10000000000000142 Done?:  False\n",
      "Observation:  (96, 96, 3) Reward:  -0.10000000000000142 Done?:  False\n",
      "Observation:  (96, 96, 3) Reward:  4.30528634361233 Done?:  False\n",
      "Observation:  (96, 96, 3) Reward:  -0.10000000000000142 Done?:  False\n",
      "Observation:  (96, 96, 3) Reward:  -0.10000000000000142 Done?:  False\n",
      "Observation:  (96, 96, 3) Reward:  -0.10000000000000142 Done?:  False\n",
      "Observation:  (96, 96, 3) Reward:  -0.10000000000000142 Done?:  False\n",
      "Observation:  (96, 96, 3) Reward:  4.30528634361233 Done?:  False\n",
      "Observation:  (96, 96, 3) Reward:  -0.10000000000000142 Done?:  False\n",
      "Observation:  (96, 96, 3) Reward:  -0.10000000000000142 Done?:  False\n",
      "Observation:  (96, 96, 3) Reward:  -0.10000000000000142 Done?:  False\n",
      "Observation:  (96, 96, 3) Reward:  4.30528634361233 Done?:  False\n",
      "Observation:  (96, 96, 3) Reward:  -0.10000000000000142 Done?:  False\n",
      "Observation:  (96, 96, 3) Reward:  -0.10000000000000142 Done?:  False\n",
      "Observation:  (96, 96, 3) Reward:  -0.10000000000000142 Done?:  False\n",
      "Observation:  (96, 96, 3) Reward:  4.30528634361233 Done?:  False\n",
      "Observation:  (96, 96, 3) Reward:  -0.10000000000000142 Done?:  False\n",
      "Observation:  (96, 96, 3) Reward:  -0.10000000000000142 Done?:  False\n",
      "Observation:  (96, 96, 3) Reward:  -0.10000000000000142 Done?:  False\n",
      "Observation:  (96, 96, 3) Reward:  4.3052863436123445 Done?:  False\n",
      "Observation:  (96, 96, 3) Reward:  -0.09999999999999432 Done?:  False\n",
      "Observation:  (96, 96, 3) Reward:  -0.10000000000000142 Done?:  False\n",
      "Observation:  (96, 96, 3) Reward:  -0.10000000000000142 Done?:  False\n",
      "Observation:  (96, 96, 3) Reward:  4.305286343612337 Done?:  False\n",
      "Observation:  (96, 96, 3) Reward:  -0.09999999999999432 Done?:  False\n",
      "Observation:  (96, 96, 3) Reward:  -0.09999999999999432 Done?:  False\n",
      "Observation:  (96, 96, 3) Reward:  -0.09999999999999432 Done?:  False\n",
      "Observation:  (96, 96, 3) Reward:  4.305286343612337 Done?:  False\n",
      "Observation:  (96, 96, 3) Reward:  -0.09999999999999432 Done?:  False\n",
      "Observation:  (96, 96, 3) Reward:  -0.09999999999999432 Done?:  False\n",
      "Observation:  (96, 96, 3) Reward:  -0.09999999999999432 Done?:  False\n",
      "Observation:  (96, 96, 3) Reward:  4.305286343612337 Done?:  False\n",
      "Observation:  (96, 96, 3) Reward:  -0.09999999999999432 Done?:  False\n"
     ]
    },
    {
     "name": "stdout",
     "output_type": "stream",
     "text": [
      "Observation:  (96, 96, 3) Reward:  -0.09999999999999432 Done?:  False\n",
      "Observation:  (96, 96, 3) Reward:  -0.09999999999999432 Done?:  False\n",
      "Observation:  (96, 96, 3) Reward:  4.305286343612337 Done?:  False\n",
      "Observation:  (96, 96, 3) Reward:  -0.09999999999999432 Done?:  False\n",
      "Observation:  (96, 96, 3) Reward:  -0.09999999999999432 Done?:  False\n",
      "Observation:  (96, 96, 3) Reward:  4.305286343612337 Done?:  False\n",
      "Observation:  (96, 96, 3) Reward:  -0.09999999999999432 Done?:  False\n",
      "Observation:  (96, 96, 3) Reward:  -0.09999999999999432 Done?:  False\n",
      "Observation:  (96, 96, 3) Reward:  -0.09999999999999432 Done?:  False\n",
      "Observation:  (96, 96, 3) Reward:  4.305286343612337 Done?:  False\n",
      "Observation:  (96, 96, 3) Reward:  -0.09999999999999432 Done?:  False\n",
      "Observation:  (96, 96, 3) Reward:  -0.09999999999999432 Done?:  False\n",
      "Observation:  (96, 96, 3) Reward:  4.305286343612337 Done?:  False\n",
      "Observation:  (96, 96, 3) Reward:  -0.09999999999999432 Done?:  False\n",
      "Observation:  (96, 96, 3) Reward:  -0.09999999999999432 Done?:  False\n",
      "Observation:  (96, 96, 3) Reward:  -0.09999999999999432 Done?:  False\n",
      "Observation:  (96, 96, 3) Reward:  4.305286343612337 Done?:  False\n",
      "Observation:  (96, 96, 3) Reward:  -0.09999999999999432 Done?:  False\n",
      "Observation:  (96, 96, 3) Reward:  -0.09999999999999432 Done?:  False\n",
      "Observation:  (96, 96, 3) Reward:  -0.09999999999999432 Done?:  False\n",
      "Observation:  (96, 96, 3) Reward:  -0.09999999999999432 Done?:  False\n",
      "Observation:  (96, 96, 3) Reward:  -0.09999999999999432 Done?:  False\n",
      "Observation:  (96, 96, 3) Reward:  -0.09999999999999432 Done?:  False\n",
      "Observation:  (96, 96, 3) Reward:  -0.09999999999999432 Done?:  False\n",
      "Observation:  (96, 96, 3) Reward:  -0.09999999999999432 Done?:  False\n",
      "Observation:  (96, 96, 3) Reward:  -0.09999999999999432 Done?:  False\n",
      "Observation:  (96, 96, 3) Reward:  -0.09999999999999432 Done?:  False\n",
      "Observation:  (96, 96, 3) Reward:  -0.09999999999999432 Done?:  False\n",
      "Observation:  (96, 96, 3) Reward:  -0.09999999999999432 Done?:  False\n",
      "Observation:  (96, 96, 3) Reward:  -0.09999999999999432 Done?:  False\n",
      "Observation:  (96, 96, 3) Reward:  -0.09999999999999432 Done?:  False\n",
      "Observation:  (96, 96, 3) Reward:  -0.09999999999999432 Done?:  False\n",
      "Observation:  (96, 96, 3) Reward:  -0.09999999999999432 Done?:  False\n",
      "Observation:  (96, 96, 3) Reward:  -0.09999999999999432 Done?:  False\n",
      "Observation:  (96, 96, 3) Reward:  -0.09999999999999432 Done?:  False\n",
      "Observation:  (96, 96, 3) Reward:  -0.09999999999999432 Done?:  False\n",
      "Observation:  (96, 96, 3) Reward:  -0.09999999999999432 Done?:  False\n",
      "Observation:  (96, 96, 3) Reward:  -0.09999999999999432 Done?:  False\n",
      "Observation:  (96, 96, 3) Reward:  -0.09999999999999432 Done?:  False\n",
      "Observation:  (96, 96, 3) Reward:  -0.09999999999999432 Done?:  False\n",
      "Observation:  (96, 96, 3) Reward:  -0.09999999999999432 Done?:  False\n",
      "Observation:  (96, 96, 3) Reward:  -0.09999999999999432 Done?:  False\n",
      "Observation:  (96, 96, 3) Reward:  -0.09999999999999432 Done?:  False\n",
      "Observation:  (96, 96, 3) Reward:  -0.09999999999999432 Done?:  False\n",
      "Observation:  (96, 96, 3) Reward:  -0.09999999999999432 Done?:  False\n",
      "Observation:  (96, 96, 3) Reward:  4.305286343612337 Done?:  False\n",
      "Observation:  (96, 96, 3) Reward:  4.305286343612337 Done?:  False\n",
      "Observation:  (96, 96, 3) Reward:  -0.09999999999999432 Done?:  False\n",
      "Observation:  (96, 96, 3) Reward:  -0.09999999999999432 Done?:  False\n",
      "Observation:  (96, 96, 3) Reward:  -0.09999999999999432 Done?:  False\n",
      "Observation:  (96, 96, 3) Reward:  -0.09999999999999432 Done?:  False\n",
      "Observation:  (96, 96, 3) Reward:  -0.09999999999999432 Done?:  False\n",
      "Observation:  (96, 96, 3) Reward:  4.305286343612337 Done?:  False\n",
      "Observation:  (96, 96, 3) Reward:  -0.09999999999999432 Done?:  False\n",
      "Observation:  (96, 96, 3) Reward:  -0.09999999999999432 Done?:  False\n",
      "Observation:  (96, 96, 3) Reward:  -0.09999999999999432 Done?:  False\n",
      "Observation:  (96, 96, 3) Reward:  -0.09999999999999432 Done?:  False\n",
      "Observation:  (96, 96, 3) Reward:  -0.09999999999999432 Done?:  False\n",
      "Observation:  (96, 96, 3) Reward:  -0.09999999999999432 Done?:  False\n",
      "Observation:  (96, 96, 3) Reward:  -0.09999999999999432 Done?:  False\n",
      "Observation:  (96, 96, 3) Reward:  -0.09999999999999432 Done?:  False\n",
      "Observation:  (96, 96, 3) Reward:  -0.09999999999999432 Done?:  False\n",
      "Observation:  (96, 96, 3) Reward:  -0.09999999999999432 Done?:  False\n",
      "Observation:  (96, 96, 3) Reward:  -0.09999999999999432 Done?:  False\n",
      "Observation:  (96, 96, 3) Reward:  -0.09999999999999432 Done?:  False\n",
      "Observation:  (96, 96, 3) Reward:  -0.09999999999999432 Done?:  False\n",
      "Observation:  (96, 96, 3) Reward:  -0.09999999999999432 Done?:  False\n",
      "Observation:  (96, 96, 3) Reward:  -0.09999999999999432 Done?:  False\n",
      "Observation:  (96, 96, 3) Reward:  -0.09999999999999432 Done?:  False\n",
      "Observation:  (96, 96, 3) Reward:  -0.09999999999999432 Done?:  False\n",
      "Observation:  (96, 96, 3) Reward:  -0.09999999999999432 Done?:  False\n",
      "Observation:  (96, 96, 3) Reward:  -0.09999999999999432 Done?:  False\n",
      "Observation:  (96, 96, 3) Reward:  -0.09999999999999432 Done?:  False\n",
      "Observation:  (96, 96, 3) Reward:  -0.09999999999999432 Done?:  False\n",
      "Observation:  (96, 96, 3) Reward:  -0.09999999999999432 Done?:  False\n",
      "Observation:  (96, 96, 3) Reward:  -0.09999999999999432 Done?:  False\n",
      "Observation:  (96, 96, 3) Reward:  -0.09999999999999432 Done?:  False\n",
      "Observation:  (96, 96, 3) Reward:  -0.09999999999999432 Done?:  False\n",
      "Observation:  (96, 96, 3) Reward:  -0.09999999999999432 Done?:  False\n",
      "Observation:  (96, 96, 3) Reward:  -0.09999999999999432 Done?:  False\n",
      "Observation:  (96, 96, 3) Reward:  -0.09999999999999432 Done?:  False\n",
      "Observation:  (96, 96, 3) Reward:  -0.09999999999999432 Done?:  False\n",
      "Observation:  (96, 96, 3) Reward:  -0.09999999999999432 Done?:  False\n",
      "Observation:  (96, 96, 3) Reward:  -0.09999999999999432 Done?:  False\n",
      "Observation:  (96, 96, 3) Reward:  -0.09999999999999432 Done?:  False\n",
      "Observation:  (96, 96, 3) Reward:  -0.09999999999999432 Done?:  False\n",
      "Observation:  (96, 96, 3) Reward:  -0.09999999999999432 Done?:  False\n",
      "Observation:  (96, 96, 3) Reward:  -0.09999999999999432 Done?:  False\n",
      "Observation:  (96, 96, 3) Reward:  -0.09999999999999432 Done?:  False\n",
      "Observation:  (96, 96, 3) Reward:  -0.09999999999999432 Done?:  False\n",
      "Observation:  (96, 96, 3) Reward:  -0.09999999999999432 Done?:  False\n",
      "Observation:  (96, 96, 3) Reward:  -0.09999999999999432 Done?:  False\n",
      "Observation:  (96, 96, 3) Reward:  -0.09999999999999432 Done?:  False\n",
      "Observation:  (96, 96, 3) Reward:  -0.09999999999999432 Done?:  False\n",
      "Observation:  (96, 96, 3) Reward:  -0.09999999999999432 Done?:  False\n",
      "Observation:  (96, 96, 3) Reward:  -0.09999999999999432 Done?:  False\n",
      "Observation:  (96, 96, 3) Reward:  -0.09999999999999432 Done?:  False\n",
      "Observation:  (96, 96, 3) Reward:  -0.09999999999999432 Done?:  False\n",
      "Observation:  (96, 96, 3) Reward:  -0.09999999999999432 Done?:  False\n",
      "Observation:  (96, 96, 3) Reward:  -0.09999999999999432 Done?:  False\n",
      "Observation:  (96, 96, 3) Reward:  -0.09999999999999432 Done?:  False\n",
      "Observation:  (96, 96, 3) Reward:  -0.09999999999999432 Done?:  False\n",
      "Observation:  (96, 96, 3) Reward:  -0.09999999999999432 Done?:  False\n",
      "Observation:  (96, 96, 3) Reward:  -0.09999999999999432 Done?:  False\n",
      "Observation:  (96, 96, 3) Reward:  -0.09999999999999432 Done?:  False\n",
      "Observation:  (96, 96, 3) Reward:  -0.09999999999999432 Done?:  False\n",
      "Observation:  (96, 96, 3) Reward:  -0.09999999999999432 Done?:  False\n",
      "Observation:  (96, 96, 3) Reward:  -0.09999999999999432 Done?:  False\n",
      "Observation:  (96, 96, 3) Reward:  -0.09999999999999432 Done?:  False\n",
      "Observation:  (96, 96, 3) Reward:  -0.09999999999999432 Done?:  False\n",
      "Observation:  (96, 96, 3) Reward:  -0.09999999999999432 Done?:  False\n",
      "Observation:  (96, 96, 3) Reward:  -0.09999999999999432 Done?:  False\n",
      "Observation:  (96, 96, 3) Reward:  -0.09999999999999432 Done?:  False\n",
      "Observation:  (96, 96, 3) Reward:  -0.09999999999999432 Done?:  False\n",
      "Observation:  (96, 96, 3) Reward:  -0.09999999999999432 Done?:  False\n",
      "Observation:  (96, 96, 3) Reward:  -0.09999999999999432 Done?:  False\n",
      "Observation:  (96, 96, 3) Reward:  -0.09999999999999432 Done?:  False\n",
      "Observation:  (96, 96, 3) Reward:  -0.09999999999999432 Done?:  False\n",
      "Observation:  (96, 96, 3) Reward:  -0.09999999999999432 Done?:  False\n",
      "Observation:  (96, 96, 3) Reward:  -0.09999999999999432 Done?:  False\n",
      "Observation:  (96, 96, 3) Reward:  -0.09999999999999432 Done?:  False\n",
      "Observation:  (96, 96, 3) Reward:  -0.09999999999999432 Done?:  False\n",
      "Observation:  (96, 96, 3) Reward:  -0.09999999999999432 Done?:  False\n"
     ]
    },
    {
     "name": "stdout",
     "output_type": "stream",
     "text": [
      "Observation:  (96, 96, 3) Reward:  -0.09999999999999432 Done?:  False\n",
      "Observation:  (96, 96, 3) Reward:  -0.09999999999999432 Done?:  False\n",
      "Observation:  (96, 96, 3) Reward:  -0.09999999999999432 Done?:  False\n",
      "Observation:  (96, 96, 3) Reward:  -0.09999999999999432 Done?:  False\n",
      "Observation:  (96, 96, 3) Reward:  -0.09999999999999432 Done?:  False\n",
      "Observation:  (96, 96, 3) Reward:  -0.09999999999999432 Done?:  False\n",
      "Observation:  (96, 96, 3) Reward:  -0.09999999999999432 Done?:  False\n",
      "Observation:  (96, 96, 3) Reward:  -0.09999999999999432 Done?:  False\n",
      "Observation:  (96, 96, 3) Reward:  -0.09999999999999432 Done?:  False\n",
      "Observation:  (96, 96, 3) Reward:  -0.09999999999999432 Done?:  False\n",
      "Observation:  (96, 96, 3) Reward:  -0.09999999999999432 Done?:  False\n",
      "Observation:  (96, 96, 3) Reward:  -0.09999999999999432 Done?:  False\n",
      "Observation:  (96, 96, 3) Reward:  -0.09999999999999432 Done?:  False\n",
      "Observation:  (96, 96, 3) Reward:  -0.09999999999999432 Done?:  False\n",
      "Observation:  (96, 96, 3) Reward:  -0.09999999999999432 Done?:  False\n",
      "Observation:  (96, 96, 3) Reward:  -0.09999999999999432 Done?:  False\n",
      "Observation:  (96, 96, 3) Reward:  -0.09999999999999432 Done?:  False\n",
      "Observation:  (96, 96, 3) Reward:  -0.09999999999999432 Done?:  False\n",
      "Observation:  (96, 96, 3) Reward:  -0.09999999999999432 Done?:  False\n",
      "Observation:  (96, 96, 3) Reward:  -0.09999999999999432 Done?:  False\n",
      "Observation:  (96, 96, 3) Reward:  -0.09999999999999432 Done?:  False\n",
      "Observation:  (96, 96, 3) Reward:  -0.09999999999999432 Done?:  False\n",
      "Observation:  (96, 96, 3) Reward:  -0.09999999999999432 Done?:  False\n",
      "Observation:  (96, 96, 3) Reward:  -0.09999999999999432 Done?:  False\n",
      "Observation:  (96, 96, 3) Reward:  -0.09999999999999432 Done?:  False\n",
      "Observation:  (96, 96, 3) Reward:  -0.09999999999999432 Done?:  False\n",
      "Observation:  (96, 96, 3) Reward:  -0.09999999999999432 Done?:  False\n",
      "Observation:  (96, 96, 3) Reward:  -0.09999999999999432 Done?:  False\n",
      "Observation:  (96, 96, 3) Reward:  -0.09999999999999432 Done?:  False\n",
      "Observation:  (96, 96, 3) Reward:  -0.09999999999999432 Done?:  False\n",
      "Observation:  (96, 96, 3) Reward:  -0.09999999999999432 Done?:  False\n",
      "Observation:  (96, 96, 3) Reward:  -0.09999999999999432 Done?:  False\n",
      "Observation:  (96, 96, 3) Reward:  -0.09999999999999432 Done?:  False\n",
      "Observation:  (96, 96, 3) Reward:  -0.09999999999999432 Done?:  False\n",
      "Observation:  (96, 96, 3) Reward:  -0.09999999999999432 Done?:  False\n",
      "Observation:  (96, 96, 3) Reward:  -0.09999999999999432 Done?:  False\n",
      "Observation:  (96, 96, 3) Reward:  -0.09999999999999432 Done?:  False\n",
      "Observation:  (96, 96, 3) Reward:  -0.09999999999999432 Done?:  False\n",
      "Observation:  (96, 96, 3) Reward:  -0.09999999999999432 Done?:  False\n",
      "Observation:  (96, 96, 3) Reward:  -0.09999999999999432 Done?:  False\n",
      "Observation:  (96, 96, 3) Reward:  -0.09999999999999432 Done?:  False\n",
      "Observation:  (96, 96, 3) Reward:  -0.09999999999999432 Done?:  False\n",
      "Observation:  (96, 96, 3) Reward:  -0.09999999999999432 Done?:  False\n",
      "Observation:  (96, 96, 3) Reward:  -0.09999999999999432 Done?:  False\n",
      "Observation:  (96, 96, 3) Reward:  -0.09999999999999432 Done?:  False\n",
      "Observation:  (96, 96, 3) Reward:  -0.09999999999999432 Done?:  False\n",
      "Observation:  (96, 96, 3) Reward:  -0.09999999999999432 Done?:  False\n",
      "Observation:  (96, 96, 3) Reward:  -0.09999999999999432 Done?:  False\n",
      "Observation:  (96, 96, 3) Reward:  -0.09999999999999432 Done?:  False\n",
      "Observation:  (96, 96, 3) Reward:  -0.09999999999999432 Done?:  False\n",
      "Observation:  (96, 96, 3) Reward:  -0.09999999999999432 Done?:  False\n",
      "Observation:  (96, 96, 3) Reward:  -0.09999999999999432 Done?:  False\n",
      "Observation:  (96, 96, 3) Reward:  -0.09999999999999432 Done?:  False\n",
      "Observation:  (96, 96, 3) Reward:  -0.09999999999999432 Done?:  False\n",
      "Observation:  (96, 96, 3) Reward:  -0.09999999999999432 Done?:  False\n",
      "Observation:  (96, 96, 3) Reward:  -0.09999999999999432 Done?:  False\n",
      "Observation:  (96, 96, 3) Reward:  -0.09999999999999432 Done?:  False\n",
      "Observation:  (96, 96, 3) Reward:  -0.09999999999999432 Done?:  False\n",
      "Observation:  (96, 96, 3) Reward:  -0.09999999999999432 Done?:  False\n",
      "Observation:  (96, 96, 3) Reward:  -0.09999999999999432 Done?:  False\n",
      "Observation:  (96, 96, 3) Reward:  -0.09999999999999432 Done?:  False\n",
      "Observation:  (96, 96, 3) Reward:  -0.09999999999999432 Done?:  False\n",
      "Observation:  (96, 96, 3) Reward:  -0.09999999999999432 Done?:  False\n",
      "Observation:  (96, 96, 3) Reward:  -0.09999999999999432 Done?:  False\n",
      "Observation:  (96, 96, 3) Reward:  -0.09999999999999432 Done?:  False\n",
      "Observation:  (96, 96, 3) Reward:  -0.09999999999999432 Done?:  False\n",
      "Observation:  (96, 96, 3) Reward:  -0.09999999999999432 Done?:  False\n",
      "Observation:  (96, 96, 3) Reward:  -0.09999999999999432 Done?:  False\n",
      "Observation:  (96, 96, 3) Reward:  -0.09999999999999432 Done?:  False\n",
      "Observation:  (96, 96, 3) Reward:  -0.09999999999999432 Done?:  False\n",
      "Observation:  (96, 96, 3) Reward:  -0.09999999999999432 Done?:  False\n",
      "Observation:  (96, 96, 3) Reward:  -0.09999999999999432 Done?:  False\n",
      "Observation:  (96, 96, 3) Reward:  -0.09999999999999432 Done?:  False\n",
      "Observation:  (96, 96, 3) Reward:  -0.09999999999999432 Done?:  False\n",
      "Observation:  (96, 96, 3) Reward:  -0.09999999999999432 Done?:  False\n",
      "Observation:  (96, 96, 3) Reward:  -0.09999999999999432 Done?:  False\n",
      "Observation:  (96, 96, 3) Reward:  -0.09999999999999432 Done?:  False\n",
      "Observation:  (96, 96, 3) Reward:  -0.09999999999999432 Done?:  False\n",
      "Observation:  (96, 96, 3) Reward:  -0.09999999999999432 Done?:  False\n",
      "Observation:  (96, 96, 3) Reward:  -0.09999999999999432 Done?:  False\n",
      "Observation:  (96, 96, 3) Reward:  -0.09999999999999432 Done?:  False\n",
      "Observation:  (96, 96, 3) Reward:  -0.09999999999999432 Done?:  False\n",
      "Observation:  (96, 96, 3) Reward:  -0.09999999999999432 Done?:  False\n",
      "Observation:  (96, 96, 3) Reward:  -0.09999999999999432 Done?:  False\n",
      "Observation:  (96, 96, 3) Reward:  -0.09999999999999432 Done?:  False\n",
      "Observation:  (96, 96, 3) Reward:  -0.09999999999999432 Done?:  False\n",
      "Observation:  (96, 96, 3) Reward:  -0.09999999999999432 Done?:  False\n",
      "Observation:  (96, 96, 3) Reward:  -0.09999999999999432 Done?:  False\n",
      "Observation:  (96, 96, 3) Reward:  -0.09999999999999432 Done?:  False\n",
      "Observation:  (96, 96, 3) Reward:  -0.09999999999999432 Done?:  False\n",
      "Observation:  (96, 96, 3) Reward:  -0.09999999999999432 Done?:  False\n",
      "Observation:  (96, 96, 3) Reward:  -0.09999999999999432 Done?:  False\n",
      "Observation:  (96, 96, 3) Reward:  -0.09999999999999432 Done?:  False\n",
      "Observation:  (96, 96, 3) Reward:  -0.09999999999999432 Done?:  False\n",
      "Observation:  (96, 96, 3) Reward:  -0.09999999999999432 Done?:  False\n",
      "Observation:  (96, 96, 3) Reward:  -0.09999999999999432 Done?:  False\n",
      "Observation:  (96, 96, 3) Reward:  -0.09999999999999432 Done?:  False\n",
      "Observation:  (96, 96, 3) Reward:  -0.09999999999999432 Done?:  False\n",
      "Observation:  (96, 96, 3) Reward:  -0.09999999999999432 Done?:  False\n",
      "Observation:  (96, 96, 3) Reward:  -0.09999999999999432 Done?:  False\n",
      "Observation:  (96, 96, 3) Reward:  -0.09999999999999432 Done?:  False\n",
      "Observation:  (96, 96, 3) Reward:  -0.09999999999999432 Done?:  False\n",
      "Observation:  (96, 96, 3) Reward:  -0.09999999999999432 Done?:  False\n",
      "Observation:  (96, 96, 3) Reward:  -0.09999999999999432 Done?:  False\n",
      "Observation:  (96, 96, 3) Reward:  -0.09999999999999432 Done?:  False\n",
      "Observation:  (96, 96, 3) Reward:  -0.09999999999999432 Done?:  False\n",
      "Observation:  (96, 96, 3) Reward:  -0.09999999999999432 Done?:  False\n",
      "Observation:  (96, 96, 3) Reward:  -0.09999999999999432 Done?:  False\n",
      "Observation:  (96, 96, 3) Reward:  -0.09999999999999432 Done?:  False\n",
      "Observation:  (96, 96, 3) Reward:  -0.09999999999999432 Done?:  False\n",
      "Observation:  (96, 96, 3) Reward:  -0.09999999999999432 Done?:  False\n",
      "Observation:  (96, 96, 3) Reward:  -0.09999999999999432 Done?:  False\n",
      "Observation:  (96, 96, 3) Reward:  -0.09999999999999432 Done?:  False\n",
      "Observation:  (96, 96, 3) Reward:  -0.09999999999999432 Done?:  False\n",
      "Observation:  (96, 96, 3) Reward:  -0.09999999999999432 Done?:  False\n",
      "Observation:  (96, 96, 3) Reward:  -0.09999999999999432 Done?:  False\n",
      "Observation:  (96, 96, 3) Reward:  -0.09999999999999432 Done?:  False\n",
      "Observation:  (96, 96, 3) Reward:  -0.09999999999999432 Done?:  False\n",
      "Observation:  (96, 96, 3) Reward:  -0.09999999999999432 Done?:  False\n"
     ]
    },
    {
     "name": "stdout",
     "output_type": "stream",
     "text": [
      "Observation:  (96, 96, 3) Reward:  -0.09999999999999432 Done?:  False\n",
      "Observation:  (96, 96, 3) Reward:  -0.09999999999999432 Done?:  False\n",
      "Observation:  (96, 96, 3) Reward:  -0.09999999999999432 Done?:  False\n",
      "Observation:  (96, 96, 3) Reward:  -0.09999999999999432 Done?:  False\n",
      "Observation:  (96, 96, 3) Reward:  -0.09999999999999432 Done?:  False\n",
      "Observation:  (96, 96, 3) Reward:  -0.09999999999999432 Done?:  False\n",
      "Observation:  (96, 96, 3) Reward:  -0.09999999999999432 Done?:  False\n",
      "Observation:  (96, 96, 3) Reward:  -0.09999999999999432 Done?:  False\n",
      "Observation:  (96, 96, 3) Reward:  -0.09999999999999432 Done?:  False\n",
      "Observation:  (96, 96, 3) Reward:  -0.09999999999999432 Done?:  False\n",
      "Observation:  (96, 96, 3) Reward:  -0.09999999999999432 Done?:  False\n",
      "Observation:  (96, 96, 3) Reward:  -0.09999999999999432 Done?:  False\n",
      "Observation:  (96, 96, 3) Reward:  -0.09999999999999432 Done?:  False\n",
      "Observation:  (96, 96, 3) Reward:  -0.09999999999999432 Done?:  False\n",
      "Observation:  (96, 96, 3) Reward:  -0.09999999999999432 Done?:  False\n",
      "Observation:  (96, 96, 3) Reward:  -0.09999999999999432 Done?:  False\n",
      "Observation:  (96, 96, 3) Reward:  -0.09999999999999432 Done?:  False\n",
      "Observation:  (96, 96, 3) Reward:  -0.09999999999999432 Done?:  False\n",
      "Observation:  (96, 96, 3) Reward:  -0.09999999999999432 Done?:  False\n",
      "Observation:  (96, 96, 3) Reward:  -0.09999999999999432 Done?:  False\n",
      "Observation:  (96, 96, 3) Reward:  -0.09999999999999432 Done?:  False\n",
      "Observation:  (96, 96, 3) Reward:  -0.09999999999999432 Done?:  False\n",
      "Observation:  (96, 96, 3) Reward:  -0.09999999999999432 Done?:  False\n",
      "Observation:  (96, 96, 3) Reward:  -0.09999999999999432 Done?:  False\n",
      "Observation:  (96, 96, 3) Reward:  -0.09999999999999432 Done?:  False\n",
      "Observation:  (96, 96, 3) Reward:  -0.09999999999999432 Done?:  False\n",
      "Observation:  (96, 96, 3) Reward:  -0.09999999999999432 Done?:  False\n",
      "Observation:  (96, 96, 3) Reward:  -0.09999999999999432 Done?:  False\n",
      "Observation:  (96, 96, 3) Reward:  -0.09999999999999432 Done?:  False\n",
      "Observation:  (96, 96, 3) Reward:  -0.09999999999999432 Done?:  False\n",
      "Observation:  (96, 96, 3) Reward:  -0.09999999999999432 Done?:  False\n",
      "Observation:  (96, 96, 3) Reward:  -0.09999999999999432 Done?:  False\n",
      "Observation:  (96, 96, 3) Reward:  -0.09999999999999432 Done?:  False\n",
      "Observation:  (96, 96, 3) Reward:  -0.09999999999999432 Done?:  False\n",
      "Observation:  (96, 96, 3) Reward:  -0.09999999999999432 Done?:  False\n",
      "Observation:  (96, 96, 3) Reward:  -0.09999999999999432 Done?:  False\n",
      "Observation:  (96, 96, 3) Reward:  -0.09999999999999432 Done?:  False\n",
      "Observation:  (96, 96, 3) Reward:  -0.09999999999999432 Done?:  False\n",
      "Observation:  (96, 96, 3) Reward:  -0.09999999999999432 Done?:  False\n",
      "Observation:  (96, 96, 3) Reward:  -0.09999999999999432 Done?:  False\n",
      "Observation:  (96, 96, 3) Reward:  -0.09999999999999432 Done?:  False\n",
      "Observation:  (96, 96, 3) Reward:  -0.09999999999999432 Done?:  False\n",
      "Observation:  (96, 96, 3) Reward:  -0.09999999999999432 Done?:  False\n",
      "Observation:  (96, 96, 3) Reward:  -0.09999999999999432 Done?:  False\n",
      "Observation:  (96, 96, 3) Reward:  -0.09999999999999432 Done?:  False\n",
      "Observation:  (96, 96, 3) Reward:  -0.09999999999999432 Done?:  False\n",
      "Observation:  (96, 96, 3) Reward:  -0.09999999999999432 Done?:  False\n",
      "Observation:  (96, 96, 3) Reward:  -0.09999999999999432 Done?:  False\n",
      "Observation:  (96, 96, 3) Reward:  -0.09999999999999432 Done?:  False\n",
      "Observation:  (96, 96, 3) Reward:  -0.09999999999999432 Done?:  False\n",
      "Observation:  (96, 96, 3) Reward:  -0.09999999999999432 Done?:  False\n",
      "Observation:  (96, 96, 3) Reward:  -100 Done?:  True\n"
     ]
    }
   ],
   "source": [
    "total_reward = 0\n",
    "\n",
    "# Outer loop is for multiple simulations (increase for learning over a long time)\n",
    "for i in range(1):\n",
    "    env.reset() # Reset to start a new simulation\n",
    "    \n",
    "    \n",
    "    # Inner loop for simulating the environment:\n",
    "    # 1. Observe 2. Take action 3. Read reward 4. Learn 1. Observe ...\n",
    "    for i in range(loop2):\n",
    "        env.render() # For seeing the simulation step\n",
    "        \n",
    "        \n",
    "        \n",
    "        \"\"\"--------------------------------------------\"\"\"\n",
    "        \"\"\"YOUR ALGORITHM GOES HERE.\n",
    "        YOU CAN IMPORT YOUR CODE OR WRITE IT HERE DIRECTLY\n",
    "        HERE IS AN EXAMPLE\"\"\"\n",
    "        \n",
    "        \n",
    "        \n",
    "        if(i > condition1 and i < condition2):\n",
    "            observation, reward, done, info = env.step([-0.99, 0.5, 0.1])\n",
    "        else:\n",
    "            #observation, reward, done, info = env.step([0., 0.5, 0.1])\n",
    "            observation, reward, done, info = env.step([0., 0.5, 0.1])\n",
    "            \n",
    "            \n",
    "            \n",
    "        \"\"\"--------------------------------------------\"\"\"\n",
    "            \n",
    "        # Print the observations, rewards, whether the round has ended\n",
    "        print(\"Observation: \", observation.shape,\n",
    "              \"Reward: \", reward,\n",
    "              \"Done?: \", done)\n",
    "        \n",
    "        if i < 2000: # Calculate reward for only first 2000 episodes\n",
    "            total_reward += reward\n",
    "        \n",
    "        if done: # Car steered off stop the simulation and restart it\n",
    "            break"
   ]
  },
  {
   "cell_type": "code",
   "execution_count": 24,
   "metadata": {},
   "outputs": [
    {
     "name": "stdout",
     "output_type": "stream",
     "text": [
      "12.913907284767637\n"
     ]
    }
   ],
   "source": [
    "print(total_reward)"
   ]
  },
  {
   "cell_type": "markdown",
   "metadata": {},
   "source": [
    "# Close"
   ]
  },
  {
   "cell_type": "code",
   "execution_count": 5,
   "metadata": {},
   "outputs": [],
   "source": [
    "# Drop the resources for the environment\n",
    "env.env.close()"
   ]
  },
  {
   "cell_type": "markdown",
   "metadata": {},
   "source": [
    "# General Advice\n",
    "\n",
    "* You can ask the hackathon hero for help, but not too much :)\n",
    "* Please don't to cheat too much :)\n",
    "* Please fork don’t clone on the day\n",
    "* Organise your collaboration and learn about the subject at the start \n",
    "* Maybe start simple (even without machine learning) and then employ machine learning\n",
    "* Check the car racing env page on AI gym to remember the reward and observation structure https://gym.openai.com/envs/CarRacing-v0/"
   ]
  },
  {
   "cell_type": "markdown",
   "metadata": {},
   "source": [
    "# The Observation\n",
    "\n",
    "* Here we plot the observation to hint to its content"
   ]
  },
  {
   "cell_type": "code",
   "execution_count": 18,
   "metadata": {},
   "outputs": [
    {
     "data": {
      "image/png": "[encoded data removed]",
      "text/plain": [
       "<Figure size 2520x2520 with 1 Axes>"
      ]
     },
     "metadata": {
      "needs_background": "light"
     },
     "output_type": "display_data"
    }
   ],
   "source": [
    "import matplotlib.pyplot as plt\n",
    "plt.figure(figsize=(35, 35))\n",
    "plt.imshow(observation, interpolation='nearest')\n",
    "plt.show()"
   ]
  },
  {
   "cell_type": "code",
   "execution_count": null,
   "metadata": {},
   "outputs": [],
   "source": []
  },
  {
   "cell_type": "code",
   "execution_count": 24,
   "metadata": {},
   "outputs": [
    {
     "data": {
      "text/plain": [
       "(96, 96, 3)"
      ]
     },
     "execution_count": 24,
     "metadata": {},
     "output_type": "execute_result"
    }
   ],
   "source": [
    "observation.shape"
   ]
  },
  {
   "cell_type": "code",
   "execution_count": 23,
   "metadata": {},
   "outputs": [
    {
     "data": {
      "text/plain": [
       "numpy.ndarray"
      ]
     },
     "execution_count": 23,
     "metadata": {},
     "output_type": "execute_result"
    }
   ],
   "source": [
    "type(observation)"
   ]
  },
  {
   "cell_type": "code",
   "execution_count": null,
   "metadata": {},
   "outputs": [],
   "source": []
  },
  {
   "cell_type": "code",
   "execution_count": 19,
   "metadata": {},
   "outputs": [
    {
     "data": {
      "text/plain": [
       "array([[[102, 204, 102],\n",
       "        [102, 204, 102],\n",
       "        [102, 204, 102],\n",
       "        ...,\n",
       "        [102, 204, 102],\n",
       "        [102, 204, 102],\n",
       "        [102, 204, 102]],\n",
       "\n",
       "       [[102, 204, 102],\n",
       "        [102, 204, 102],\n",
       "        [102, 204, 102],\n",
       "        ...,\n",
       "        [102, 204, 102],\n",
       "        [102, 204, 102],\n",
       "        [102, 204, 102]],\n",
       "\n",
       "       [[102, 204, 102],\n",
       "        [102, 204, 102],\n",
       "        [102, 204, 102],\n",
       "        ...,\n",
       "        [102, 204, 102],\n",
       "        [102, 204, 102],\n",
       "        [102, 204, 102]],\n",
       "\n",
       "       ...,\n",
       "\n",
       "       [[  0,   0,   0],\n",
       "        [  0,   0,   0],\n",
       "        [  0,   0,   0],\n",
       "        ...,\n",
       "        [  0,   0,   0],\n",
       "        [  0,   0,   0],\n",
       "        [  0,   0,   0]],\n",
       "\n",
       "       [[  0,   0,   0],\n",
       "        [  0,   0,   0],\n",
       "        [  0,   0,   0],\n",
       "        ...,\n",
       "        [  0,   0,   0],\n",
       "        [  0,   0,   0],\n",
       "        [  0,   0,   0]],\n",
       "\n",
       "       [[  0,   0,   0],\n",
       "        [  0,   0,   0],\n",
       "        [  0,   0,   0],\n",
       "        ...,\n",
       "        [  0,   0,   0],\n",
       "        [  0,   0,   0],\n",
       "        [  0,   0,   0]]], dtype=uint8)"
      ]
     },
     "execution_count": 19,
     "metadata": {},
     "output_type": "execute_result"
    }
   ],
   "source": [
    "observation"
   ]
  },
  {
   "cell_type": "code",
   "execution_count": null,
   "metadata": {},
   "outputs": [],
   "source": []
  },
  {
   "cell_type": "markdown",
   "metadata": {},
   "source": [
    "# List of Features\n",
    "\n",
    "- direction of driving\n",
    "- road ahead if we are straight? (decide on speed and on )\n"
   ]
  },
  {
   "cell_type": "markdown",
   "metadata": {},
   "source": [
    "# Functions"
   ]
  },
  {
   "cell_type": "code",
   "execution_count": null,
   "metadata": {},
   "outputs": [],
   "source": [
    "def crop(obs):\n",
    "    # Remove left 25% and right 25%\n",
    "    return obs"
   ]
  },
  {
   "cell_type": "code",
   "execution_count": 30,
   "metadata": {},
   "outputs": [],
   "source": [
    "def discrete(elem):\n",
    "    res = [0]\n",
    "    am = np.argmax(elem)\n",
    "    if am < 1:\n",
    "        res[0] = 1\n",
    "    return res"
   ]
  },
  {
   "cell_type": "code",
   "execution_count": 31,
   "metadata": {},
   "outputs": [],
   "source": [
    "def binarize(obs):\n",
    "    # Binarize\n",
    "    res = ds = np.array(\n",
    "        list(\n",
    "            map(discrete, obs.reshape(96 * 96, 3))\n",
    "        )\n",
    "    ).reshape(96, 96, 1)\n",
    "    \n",
    "    res = res[15:-15, 15:-15, :]\n",
    "    \n",
    "    # Downsample\n",
    "    acc = res[0::22, 0::22, 0]\n",
    "    for i in range(1,22):\n",
    "        for j in range(1,22):\n",
    "            acc += res[i::22, j::22, 0]\n",
    "    \n",
    "    acc = (acc / (22 * 22)) > 0.3\n",
    "\n",
    "    #acc = acc[:-1,:]\n",
    "    \n",
    "    return np.array(acc, dtype=int)"
   ]
  },
  {
   "cell_type": "code",
   "execution_count": null,
   "metadata": {},
   "outputs": [],
   "source": []
  },
  {
   "cell_type": "markdown",
   "metadata": {},
   "source": [
    "# Plotting"
   ]
  },
  {
   "cell_type": "markdown",
   "metadata": {},
   "source": [
    "### Original"
   ]
  },
  {
   "cell_type": "code",
   "execution_count": 28,
   "metadata": {},
   "outputs": [
    {
     "data": {
      "image/png": "[encoded data removed]",
      "text/plain": [
       "<Figure size 360x360 with 1 Axes>"
      ]
     },
     "metadata": {
      "needs_background": "light"
     },
     "output_type": "display_data"
    }
   ],
   "source": [
    "import matplotlib.pyplot as plt\n",
    "plt.figure(figsize=(5, 5))\n",
    "plt.imshow(observation, interpolation='nearest')\n",
    "plt.show()"
   ]
  },
  {
   "cell_type": "markdown",
   "metadata": {},
   "source": [
    "### Binarize Nawar"
   ]
  },
  {
   "cell_type": "code",
   "execution_count": 32,
   "metadata": {},
   "outputs": [
    {
     "data": {
      "image/png": "[encoded data removed]",
      "text/plain": [
       "<Figure size 360x360 with 1 Axes>"
      ]
     },
     "metadata": {
      "needs_background": "light"
     },
     "output_type": "display_data"
    }
   ],
   "source": [
    "import matplotlib.pyplot as plt\n",
    "plt.figure(figsize=(5, 5))\n",
    "plt.imshow(binarize(observation), interpolation='nearest')\n",
    "plt.show()"
   ]
  },
  {
   "cell_type": "code",
   "execution_count": null,
   "metadata": {},
   "outputs": [],
   "source": []
  }
 ],
 "metadata": {
  "kernelspec": {
   "display_name": "Python 3",
   "language": "python",
   "name": "python3"
  },
  "language_info": {
   "codemirror_mode": {
    "name": "ipython",
    "version": 3
   },
   "file_extension": ".py",
   "mimetype": "text/x-python",
   "name": "python",
   "nbconvert_exporter": "python",
   "pygments_lexer": "ipython3",
   "version": "3.8.2"
  },
  "toc": {
   "base_numbering": 1,
   "nav_menu": {},
   "number_sections": true,
   "sideBar": true,
   "skip_h1_title": false,
   "title_cell": "Table of Contents",
   "title_sidebar": "Contents",
   "toc_cell": false,
   "toc_position": {},
   "toc_section_display": true,
   "toc_window_display": false
  }
 },
 "nbformat": 4,
 "nbformat_minor": 2
}
