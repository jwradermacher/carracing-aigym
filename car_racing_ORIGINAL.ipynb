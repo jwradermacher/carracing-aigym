{
 "cells": [
  {
   "cell_type": "markdown",
   "metadata": {},
   "source": [
    "# Import gym"
   ]
  },
  {
   "cell_type": "code",
   "execution_count": 1,
   "metadata": {},
   "outputs": [],
   "source": [
    "# gym is a toolkit for making reinforcement learning easier\n",
    "import gym"
   ]
  },
  {
   "cell_type": "markdown",
   "metadata": {},
   "source": [
    "# Create the environment"
   ]
  },
  {
   "cell_type": "code",
   "execution_count": 2,
   "metadata": {},
   "outputs": [
    {
     "name": "stderr",
     "output_type": "stream",
     "text": [
      "/Users/fr27lv/opt/anaconda3/envs/aigym/lib/python3.8/site-packages/gym/logger.py:30: UserWarning: \u001b[33mWARN: Box bound precision lowered by casting to float32\u001b[0m\n",
      "  warnings.warn(colorize('%s: %s'%('WARN', msg % args), 'yellow'))\n"
     ]
    }
   ],
   "source": [
    "# Choose the environment, track racing, robot walking....\n",
    "env = gym.make('CarRacing-v0')"
   ]
  },
  {
   "cell_type": "markdown",
   "metadata": {},
   "source": [
    "# Simulate, learn\n",
    "\n",
    "* Your code here to replace the section in red and 4 lines below"
   ]
  },
  {
   "cell_type": "code",
   "execution_count": 23,
   "metadata": {},
   "outputs": [
    {
     "name": "stdout",
     "output_type": "stream",
     "text": [
      "Track generation: 1323..1658 -> 335-tiles track\n",
      "Observation:  (96, 96, 3) Reward:  5.888023952095809 Done?:  False\n",
      "Observation:  (96, 96, 3) Reward:  -0.09999999999999964 Done?:  False\n",
      "Observation:  (96, 96, 3) Reward:  -0.09999999999999964 Done?:  False\n",
      "Observation:  (96, 96, 3) Reward:  -0.09999999999999964 Done?:  False\n",
      "Observation:  (96, 96, 3) Reward:  -0.09999999999999964 Done?:  False\n",
      "Observation:  (96, 96, 3) Reward:  -0.09999999999999964 Done?:  False\n",
      "Observation:  (96, 96, 3) Reward:  -0.09999999999999964 Done?:  False\n",
      "Observation:  (96, 96, 3) Reward:  -0.09999999999999964 Done?:  False\n",
      "Observation:  (96, 96, 3) Reward:  -0.09999999999999964 Done?:  False\n",
      "Observation:  (96, 96, 3) Reward:  -0.09999999999999964 Done?:  False\n",
      "Observation:  (96, 96, 3) Reward:  -0.09999999999999964 Done?:  False\n",
      "Observation:  (96, 96, 3) Reward:  -0.09999999999999964 Done?:  False\n",
      "Observation:  (96, 96, 3) Reward:  -0.09999999999999964 Done?:  False\n",
      "Observation:  (96, 96, 3) Reward:  2.8940119760479046 Done?:  False\n",
      "Observation:  (96, 96, 3) Reward:  -0.09999999999999964 Done?:  False\n",
      "Observation:  (96, 96, 3) Reward:  -0.09999999999999964 Done?:  False\n",
      "Observation:  (96, 96, 3) Reward:  -0.09999999999999964 Done?:  False\n",
      "Observation:  (96, 96, 3) Reward:  -0.09999999999999964 Done?:  False\n",
      "Observation:  (96, 96, 3) Reward:  -0.09999999999999964 Done?:  False\n",
      "Observation:  (96, 96, 3) Reward:  -0.09999999999999964 Done?:  False\n",
      "Observation:  (96, 96, 3) Reward:  -0.09999999999999964 Done?:  False\n",
      "Observation:  (96, 96, 3) Reward:  -0.09999999999999964 Done?:  False\n",
      "Observation:  (96, 96, 3) Reward:  -0.09999999999999964 Done?:  False\n",
      "Observation:  (96, 96, 3) Reward:  -0.09999999999999964 Done?:  False\n",
      "Observation:  (96, 96, 3) Reward:  -0.09999999999999964 Done?:  False\n",
      "Observation:  (96, 96, 3) Reward:  -0.09999999999999964 Done?:  False\n",
      "Observation:  (96, 96, 3) Reward:  -0.09999999999999964 Done?:  False\n",
      "Observation:  (96, 96, 3) Reward:  -0.09999999999999964 Done?:  False\n",
      "Observation:  (96, 96, 3) Reward:  -0.09999999999999964 Done?:  False\n",
      "Observation:  (96, 96, 3) Reward:  2.8940119760479046 Done?:  False\n",
      "Observation:  (96, 96, 3) Reward:  -0.09999999999999964 Done?:  False\n",
      "Observation:  (96, 96, 3) Reward:  -0.09999999999999964 Done?:  False\n",
      "Observation:  (96, 96, 3) Reward:  -0.09999999999999964 Done?:  False\n",
      "Observation:  (96, 96, 3) Reward:  -0.09999999999999964 Done?:  False\n",
      "Observation:  (96, 96, 3) Reward:  -0.09999999999999964 Done?:  False\n",
      "Observation:  (96, 96, 3) Reward:  -0.09999999999999964 Done?:  False\n",
      "Observation:  (96, 96, 3) Reward:  -0.09999999999999964 Done?:  False\n",
      "Observation:  (96, 96, 3) Reward:  -0.09999999999999964 Done?:  False\n",
      "Observation:  (96, 96, 3) Reward:  -0.09999999999999964 Done?:  False\n",
      "Observation:  (96, 96, 3) Reward:  2.8940119760479046 Done?:  False\n",
      "Observation:  (96, 96, 3) Reward:  -0.09999999999999964 Done?:  False\n",
      "Observation:  (96, 96, 3) Reward:  -0.09999999999999964 Done?:  False\n",
      "Observation:  (96, 96, 3) Reward:  -0.09999999999999964 Done?:  False\n",
      "Observation:  (96, 96, 3) Reward:  -0.09999999999999964 Done?:  False\n",
      "Observation:  (96, 96, 3) Reward:  -0.09999999999999964 Done?:  False\n",
      "Observation:  (96, 96, 3) Reward:  -0.09999999999999964 Done?:  False\n",
      "Observation:  (96, 96, 3) Reward:  -0.09999999999999964 Done?:  False\n",
      "Observation:  (96, 96, 3) Reward:  -0.09999999999999964 Done?:  False\n",
      "Observation:  (96, 96, 3) Reward:  2.8940119760479046 Done?:  False\n",
      "Observation:  (96, 96, 3) Reward:  -0.09999999999999964 Done?:  False\n",
      "Observation:  (96, 96, 3) Reward:  -0.09999999999999964 Done?:  False\n",
      "Observation:  (96, 96, 3) Reward:  -0.09999999999999964 Done?:  False\n",
      "Observation:  (96, 96, 3) Reward:  -0.09999999999999964 Done?:  False\n",
      "Observation:  (96, 96, 3) Reward:  -0.09999999999999964 Done?:  False\n",
      "Observation:  (96, 96, 3) Reward:  -0.09999999999999964 Done?:  False\n",
      "Observation:  (96, 96, 3) Reward:  -0.09999999999999964 Done?:  False\n",
      "Observation:  (96, 96, 3) Reward:  2.8940119760479046 Done?:  False\n",
      "Observation:  (96, 96, 3) Reward:  -0.09999999999999964 Done?:  False\n",
      "Observation:  (96, 96, 3) Reward:  -0.09999999999999964 Done?:  False\n",
      "Observation:  (96, 96, 3) Reward:  -0.09999999999999964 Done?:  False\n",
      "Observation:  (96, 96, 3) Reward:  -0.09999999999999964 Done?:  False\n",
      "Observation:  (96, 96, 3) Reward:  -0.09999999999999964 Done?:  False\n",
      "Observation:  (96, 96, 3) Reward:  -0.09999999999999964 Done?:  False\n",
      "Observation:  (96, 96, 3) Reward:  2.8940119760479046 Done?:  False\n",
      "Observation:  (96, 96, 3) Reward:  -0.10000000000000142 Done?:  False\n",
      "Observation:  (96, 96, 3) Reward:  -0.10000000000000142 Done?:  False\n",
      "Observation:  (96, 96, 3) Reward:  -0.10000000000000142 Done?:  False\n",
      "Observation:  (96, 96, 3) Reward:  -0.10000000000000142 Done?:  False\n",
      "Observation:  (96, 96, 3) Reward:  -0.10000000000000142 Done?:  False\n",
      "Observation:  (96, 96, 3) Reward:  2.894011976047903 Done?:  False\n",
      "Observation:  (96, 96, 3) Reward:  -0.10000000000000142 Done?:  False\n",
      "Observation:  (96, 96, 3) Reward:  -0.10000000000000142 Done?:  False\n",
      "Observation:  (96, 96, 3) Reward:  -0.10000000000000142 Done?:  False\n",
      "Observation:  (96, 96, 3) Reward:  -0.10000000000000142 Done?:  False\n",
      "Observation:  (96, 96, 3) Reward:  -0.10000000000000142 Done?:  False\n",
      "Observation:  (96, 96, 3) Reward:  2.894011976047903 Done?:  False\n",
      "Observation:  (96, 96, 3) Reward:  -0.10000000000000142 Done?:  False\n",
      "Observation:  (96, 96, 3) Reward:  -0.10000000000000142 Done?:  False\n",
      "Observation:  (96, 96, 3) Reward:  -0.10000000000000142 Done?:  False\n",
      "Observation:  (96, 96, 3) Reward:  -0.10000000000000142 Done?:  False\n",
      "Observation:  (96, 96, 3) Reward:  -0.10000000000000142 Done?:  False\n",
      "Observation:  (96, 96, 3) Reward:  2.894011976047903 Done?:  False\n",
      "Observation:  (96, 96, 3) Reward:  -0.10000000000000142 Done?:  False\n",
      "Observation:  (96, 96, 3) Reward:  -0.10000000000000142 Done?:  False\n",
      "Observation:  (96, 96, 3) Reward:  -0.10000000000000142 Done?:  False\n",
      "Observation:  (96, 96, 3) Reward:  -0.10000000000000142 Done?:  False\n",
      "Observation:  (96, 96, 3) Reward:  2.894011976047903 Done?:  False\n",
      "Observation:  (96, 96, 3) Reward:  -0.10000000000000142 Done?:  False\n",
      "Observation:  (96, 96, 3) Reward:  -0.10000000000000142 Done?:  False\n",
      "Observation:  (96, 96, 3) Reward:  -0.10000000000000142 Done?:  False\n",
      "Observation:  (96, 96, 3) Reward:  -0.10000000000000142 Done?:  False\n",
      "Observation:  (96, 96, 3) Reward:  -0.10000000000000142 Done?:  False\n",
      "Observation:  (96, 96, 3) Reward:  2.894011976047903 Done?:  False\n",
      "Observation:  (96, 96, 3) Reward:  -0.10000000000000142 Done?:  False\n",
      "Observation:  (96, 96, 3) Reward:  -0.10000000000000142 Done?:  False\n",
      "Observation:  (96, 96, 3) Reward:  -0.10000000000000142 Done?:  False\n",
      "Observation:  (96, 96, 3) Reward:  -0.10000000000000142 Done?:  False\n",
      "Observation:  (96, 96, 3) Reward:  2.894011976047903 Done?:  False\n",
      "Observation:  (96, 96, 3) Reward:  -0.10000000000000142 Done?:  False\n",
      "Observation:  (96, 96, 3) Reward:  -0.10000000000000142 Done?:  False\n",
      "Observation:  (96, 96, 3) Reward:  -0.10000000000000142 Done?:  False\n",
      "Observation:  (96, 96, 3) Reward:  -0.10000000000000142 Done?:  False\n",
      "Observation:  (96, 96, 3) Reward:  -0.10000000000000142 Done?:  False\n",
      "Observation:  (96, 96, 3) Reward:  2.8940119760478993 Done?:  False\n",
      "Observation:  (96, 96, 3) Reward:  -0.10000000000000142 Done?:  False\n",
      "Observation:  (96, 96, 3) Reward:  -0.10000000000000142 Done?:  False\n",
      "Observation:  (96, 96, 3) Reward:  -0.10000000000000142 Done?:  False\n",
      "Observation:  (96, 96, 3) Reward:  -0.10000000000000142 Done?:  False\n",
      "Observation:  (96, 96, 3) Reward:  2.8940119760479064 Done?:  False\n",
      "Observation:  (96, 96, 3) Reward:  -0.10000000000000142 Done?:  False\n",
      "Observation:  (96, 96, 3) Reward:  -0.10000000000000142 Done?:  False\n",
      "Observation:  (96, 96, 3) Reward:  -0.10000000000000142 Done?:  False\n",
      "Observation:  (96, 96, 3) Reward:  -0.10000000000000142 Done?:  False\n",
      "Observation:  (96, 96, 3) Reward:  2.8940119760479064 Done?:  False\n",
      "Observation:  (96, 96, 3) Reward:  -0.10000000000000142 Done?:  False\n",
      "Observation:  (96, 96, 3) Reward:  -0.10000000000000142 Done?:  False\n",
      "Observation:  (96, 96, 3) Reward:  -0.10000000000000142 Done?:  False\n",
      "Observation:  (96, 96, 3) Reward:  -0.10000000000000142 Done?:  False\n",
      "Observation:  (96, 96, 3) Reward:  2.8940119760479064 Done?:  False\n"
     ]
    },
    {
     "name": "stdout",
     "output_type": "stream",
     "text": [
      "Observation:  (96, 96, 3) Reward:  -0.10000000000000142 Done?:  False\n",
      "Observation:  (96, 96, 3) Reward:  -0.10000000000000142 Done?:  False\n",
      "Observation:  (96, 96, 3) Reward:  -0.10000000000000142 Done?:  False\n",
      "Observation:  (96, 96, 3) Reward:  -0.10000000000000142 Done?:  False\n",
      "Observation:  (96, 96, 3) Reward:  2.8940119760479064 Done?:  False\n",
      "Observation:  (96, 96, 3) Reward:  -0.10000000000000142 Done?:  False\n",
      "Observation:  (96, 96, 3) Reward:  -0.10000000000000142 Done?:  False\n",
      "Observation:  (96, 96, 3) Reward:  -0.10000000000000142 Done?:  False\n",
      "Observation:  (96, 96, 3) Reward:  2.8940119760478993 Done?:  False\n",
      "Observation:  (96, 96, 3) Reward:  -0.10000000000000142 Done?:  False\n",
      "Observation:  (96, 96, 3) Reward:  -0.10000000000000142 Done?:  False\n",
      "Observation:  (96, 96, 3) Reward:  -0.10000000000000142 Done?:  False\n",
      "Observation:  (96, 96, 3) Reward:  -0.10000000000000142 Done?:  False\n",
      "Observation:  (96, 96, 3) Reward:  2.8940119760479064 Done?:  False\n",
      "Observation:  (96, 96, 3) Reward:  -0.10000000000000142 Done?:  False\n",
      "Observation:  (96, 96, 3) Reward:  -0.10000000000000142 Done?:  False\n",
      "Observation:  (96, 96, 3) Reward:  -0.10000000000000142 Done?:  False\n",
      "Observation:  (96, 96, 3) Reward:  -0.10000000000000142 Done?:  False\n",
      "Observation:  (96, 96, 3) Reward:  2.8940119760479064 Done?:  False\n",
      "Observation:  (96, 96, 3) Reward:  -0.10000000000000142 Done?:  False\n",
      "Observation:  (96, 96, 3) Reward:  -0.10000000000000142 Done?:  False\n",
      "Observation:  (96, 96, 3) Reward:  -0.10000000000000142 Done?:  False\n",
      "Observation:  (96, 96, 3) Reward:  -0.10000000000000142 Done?:  False\n",
      "Observation:  (96, 96, 3) Reward:  2.8940119760479064 Done?:  False\n",
      "Observation:  (96, 96, 3) Reward:  -0.10000000000000142 Done?:  False\n",
      "Observation:  (96, 96, 3) Reward:  -0.10000000000000142 Done?:  False\n",
      "Observation:  (96, 96, 3) Reward:  -0.10000000000000142 Done?:  False\n",
      "Observation:  (96, 96, 3) Reward:  -0.10000000000000142 Done?:  False\n",
      "Observation:  (96, 96, 3) Reward:  2.8940119760479064 Done?:  False\n",
      "Observation:  (96, 96, 3) Reward:  -0.10000000000000142 Done?:  False\n",
      "Observation:  (96, 96, 3) Reward:  -0.10000000000000142 Done?:  False\n",
      "Observation:  (96, 96, 3) Reward:  -0.10000000000000142 Done?:  False\n",
      "Observation:  (96, 96, 3) Reward:  -0.10000000000000142 Done?:  False\n",
      "Observation:  (96, 96, 3) Reward:  2.8940119760479064 Done?:  False\n",
      "Observation:  (96, 96, 3) Reward:  -0.10000000000000142 Done?:  False\n",
      "Observation:  (96, 96, 3) Reward:  -0.10000000000000142 Done?:  False\n",
      "Observation:  (96, 96, 3) Reward:  -0.10000000000000142 Done?:  False\n",
      "Observation:  (96, 96, 3) Reward:  -0.10000000000000142 Done?:  False\n",
      "Observation:  (96, 96, 3) Reward:  2.8940119760479064 Done?:  False\n",
      "Observation:  (96, 96, 3) Reward:  -0.10000000000000142 Done?:  False\n",
      "Observation:  (96, 96, 3) Reward:  -0.10000000000000142 Done?:  False\n",
      "Observation:  (96, 96, 3) Reward:  -0.10000000000000142 Done?:  False\n",
      "Observation:  (96, 96, 3) Reward:  -0.10000000000000142 Done?:  False\n",
      "Observation:  (96, 96, 3) Reward:  2.8940119760479135 Done?:  False\n",
      "Observation:  (96, 96, 3) Reward:  -0.09999999999999432 Done?:  False\n",
      "Observation:  (96, 96, 3) Reward:  -0.09999999999999432 Done?:  False\n",
      "Observation:  (96, 96, 3) Reward:  -0.09999999999999432 Done?:  False\n",
      "Observation:  (96, 96, 3) Reward:  -0.09999999999999432 Done?:  False\n",
      "Observation:  (96, 96, 3) Reward:  2.8940119760479064 Done?:  False\n",
      "Observation:  (96, 96, 3) Reward:  -0.09999999999999432 Done?:  False\n",
      "Observation:  (96, 96, 3) Reward:  -0.09999999999999432 Done?:  False\n",
      "Observation:  (96, 96, 3) Reward:  -0.09999999999999432 Done?:  False\n",
      "Observation:  (96, 96, 3) Reward:  -0.09999999999999432 Done?:  False\n",
      "Observation:  (96, 96, 3) Reward:  2.8940119760479064 Done?:  False\n",
      "Observation:  (96, 96, 3) Reward:  -0.09999999999999432 Done?:  False\n",
      "Observation:  (96, 96, 3) Reward:  -0.09999999999999432 Done?:  False\n",
      "Observation:  (96, 96, 3) Reward:  -0.09999999999999432 Done?:  False\n",
      "Observation:  (96, 96, 3) Reward:  2.8940119760479064 Done?:  False\n",
      "Observation:  (96, 96, 3) Reward:  -0.09999999999999432 Done?:  False\n",
      "Observation:  (96, 96, 3) Reward:  -0.09999999999999432 Done?:  False\n",
      "Observation:  (96, 96, 3) Reward:  -0.09999999999999432 Done?:  False\n",
      "Observation:  (96, 96, 3) Reward:  -0.09999999999999432 Done?:  False\n",
      "Observation:  (96, 96, 3) Reward:  2.8940119760479064 Done?:  False\n",
      "Observation:  (96, 96, 3) Reward:  -0.09999999999999432 Done?:  False\n",
      "Observation:  (96, 96, 3) Reward:  -0.09999999999999432 Done?:  False\n",
      "Observation:  (96, 96, 3) Reward:  -0.09999999999999432 Done?:  False\n",
      "Observation:  (96, 96, 3) Reward:  -0.09999999999999432 Done?:  False\n",
      "Observation:  (96, 96, 3) Reward:  2.8940119760479064 Done?:  False\n",
      "Observation:  (96, 96, 3) Reward:  -0.09999999999999432 Done?:  False\n",
      "Observation:  (96, 96, 3) Reward:  -0.09999999999999432 Done?:  False\n",
      "Observation:  (96, 96, 3) Reward:  -0.09999999999999432 Done?:  False\n",
      "Observation:  (96, 96, 3) Reward:  -0.09999999999999432 Done?:  False\n",
      "Observation:  (96, 96, 3) Reward:  2.8940119760479064 Done?:  False\n",
      "Observation:  (96, 96, 3) Reward:  -0.09999999999999432 Done?:  False\n",
      "Observation:  (96, 96, 3) Reward:  -0.09999999999999432 Done?:  False\n",
      "Observation:  (96, 96, 3) Reward:  -0.09999999999999432 Done?:  False\n",
      "Observation:  (96, 96, 3) Reward:  2.8940119760479064 Done?:  False\n",
      "Observation:  (96, 96, 3) Reward:  -0.09999999999999432 Done?:  False\n",
      "Observation:  (96, 96, 3) Reward:  -0.09999999999999432 Done?:  False\n",
      "Observation:  (96, 96, 3) Reward:  -0.09999999999999432 Done?:  False\n",
      "Observation:  (96, 96, 3) Reward:  -0.09999999999999432 Done?:  False\n",
      "Observation:  (96, 96, 3) Reward:  2.8940119760479064 Done?:  False\n",
      "Observation:  (96, 96, 3) Reward:  -0.09999999999999432 Done?:  False\n",
      "Observation:  (96, 96, 3) Reward:  -0.09999999999999432 Done?:  False\n",
      "Observation:  (96, 96, 3) Reward:  -0.09999999999999432 Done?:  False\n",
      "Observation:  (96, 96, 3) Reward:  -0.09999999999999432 Done?:  False\n",
      "Observation:  (96, 96, 3) Reward:  2.8940119760479064 Done?:  False\n",
      "Observation:  (96, 96, 3) Reward:  -0.09999999999999432 Done?:  False\n",
      "Observation:  (96, 96, 3) Reward:  -0.09999999999999432 Done?:  False\n",
      "Observation:  (96, 96, 3) Reward:  -0.09999999999999432 Done?:  False\n",
      "Observation:  (96, 96, 3) Reward:  2.8940119760479064 Done?:  False\n",
      "Observation:  (96, 96, 3) Reward:  -0.09999999999999432 Done?:  False\n",
      "Observation:  (96, 96, 3) Reward:  -0.09999999999999432 Done?:  False\n",
      "Observation:  (96, 96, 3) Reward:  -0.09999999999999432 Done?:  False\n",
      "Observation:  (96, 96, 3) Reward:  -0.09999999999999432 Done?:  False\n",
      "Observation:  (96, 96, 3) Reward:  2.8940119760479064 Done?:  False\n",
      "Observation:  (96, 96, 3) Reward:  -0.09999999999999432 Done?:  False\n",
      "Observation:  (96, 96, 3) Reward:  -0.09999999999999432 Done?:  False\n",
      "Observation:  (96, 96, 3) Reward:  -0.09999999999999432 Done?:  False\n",
      "Observation:  (96, 96, 3) Reward:  2.8940119760479064 Done?:  False\n",
      "Observation:  (96, 96, 3) Reward:  -0.09999999999999432 Done?:  False\n",
      "Observation:  (96, 96, 3) Reward:  -0.09999999999999432 Done?:  False\n",
      "Observation:  (96, 96, 3) Reward:  -0.09999999999999432 Done?:  False\n",
      "Observation:  (96, 96, 3) Reward:  -0.09999999999999432 Done?:  False\n",
      "Observation:  (96, 96, 3) Reward:  2.8940119760479064 Done?:  False\n",
      "Observation:  (96, 96, 3) Reward:  -0.09999999999999432 Done?:  False\n",
      "Observation:  (96, 96, 3) Reward:  -0.09999999999999432 Done?:  False\n",
      "Observation:  (96, 96, 3) Reward:  -0.09999999999999432 Done?:  False\n",
      "Observation:  (96, 96, 3) Reward:  2.8940119760479064 Done?:  False\n",
      "Observation:  (96, 96, 3) Reward:  -0.09999999999999432 Done?:  False\n",
      "Observation:  (96, 96, 3) Reward:  -0.09999999999999432 Done?:  False\n",
      "Observation:  (96, 96, 3) Reward:  -0.09999999999999432 Done?:  False\n",
      "Observation:  (96, 96, 3) Reward:  -0.09999999999999432 Done?:  False\n",
      "Observation:  (96, 96, 3) Reward:  -0.09999999999999432 Done?:  False\n",
      "Observation:  (96, 96, 3) Reward:  -0.09999999999999432 Done?:  False\n",
      "Observation:  (96, 96, 3) Reward:  -0.09999999999999432 Done?:  False\n",
      "Observation:  (96, 96, 3) Reward:  -0.09999999999999432 Done?:  False\n",
      "Observation:  (96, 96, 3) Reward:  -0.09999999999999432 Done?:  False\n",
      "Observation:  (96, 96, 3) Reward:  -0.09999999999999432 Done?:  False\n",
      "Observation:  (96, 96, 3) Reward:  -0.09999999999999432 Done?:  False\n",
      "Observation:  (96, 96, 3) Reward:  -0.09999999999999432 Done?:  False\n",
      "Observation:  (96, 96, 3) Reward:  -0.09999999999999432 Done?:  False\n",
      "Observation:  (96, 96, 3) Reward:  -0.09999999999999432 Done?:  False\n",
      "Observation:  (96, 96, 3) Reward:  -0.09999999999999432 Done?:  False\n"
     ]
    },
    {
     "name": "stdout",
     "output_type": "stream",
     "text": [
      "Observation:  (96, 96, 3) Reward:  -0.09999999999999432 Done?:  False\n",
      "Observation:  (96, 96, 3) Reward:  -0.09999999999999432 Done?:  False\n",
      "Observation:  (96, 96, 3) Reward:  -0.09999999999999432 Done?:  False\n",
      "Observation:  (96, 96, 3) Reward:  -0.09999999999999432 Done?:  False\n",
      "Observation:  (96, 96, 3) Reward:  -0.09999999999999432 Done?:  False\n",
      "Observation:  (96, 96, 3) Reward:  -0.09999999999999432 Done?:  False\n",
      "Observation:  (96, 96, 3) Reward:  -0.09999999999999432 Done?:  False\n"
     ]
    }
   ],
   "source": [
    "total_reward = 0\n",
    "\n",
    "# Outer loop is for multiple simulations (increase for learning over a long time)\n",
    "for i in range(1):\n",
    "    env.reset() # Reset to start a new simulation\n",
    "    \n",
    "    # Inner loop for simulating the environment:\n",
    "    # 1. Observe 2. Take action 3. Read reward 4. Learn 1. Observe ...\n",
    "    for i in range(250):\n",
    "        env.render() # For seeing the simulation step\n",
    "        \n",
    "        \"\"\"--------------------------------------------\"\"\"\n",
    "        \"\"\"YOUR ALGORITHM GOES HERE.\n",
    "        YOU CAN IMPORT YOUR CODE OR WRITE IT HERE DIRECTLY\n",
    "        HERE IS AN EXAMPLE\"\"\"\n",
    "        if(i > 120 and i < 140):\n",
    "            observation, reward, done, info = env.step([-0.99, 0.5, 0.1])\n",
    "        else:\n",
    "            observation, reward, done, info = env.step([0., 0.5, 0.1])\n",
    "        \"\"\"--------------------------------------------\"\"\"\n",
    "            \n",
    "        # Pring the observations, rewards, whether the round has ended\n",
    "        print(\"Observation: \", observation.shape,\n",
    "              \"Reward: \", reward,\n",
    "              \"Done?: \", done)\n",
    "        \n",
    "        if i < 2000: # Calculate reward for only first 2000 episodes\n",
    "            total_reward += reward\n",
    "        \n",
    "        if done: # Car steered off stop the simulation and restart it\n",
    "            break"
   ]
  },
  {
   "cell_type": "code",
   "execution_count": 13,
   "metadata": {},
   "outputs": [
    {
     "name": "stdout",
     "output_type": "stream",
     "text": [
      "-68.37943925233684\n"
     ]
    }
   ],
   "source": [
    "print(total_reward)"
   ]
  },
  {
   "cell_type": "markdown",
   "metadata": {},
   "source": [
    "# Close"
   ]
  },
  {
   "cell_type": "code",
   "execution_count": 26,
   "metadata": {},
   "outputs": [],
   "source": [
    "# Drop the resources for the environment\n",
    "env.env.close()"
   ]
  },
  {
   "cell_type": "markdown",
   "metadata": {},
   "source": [
    "# General Advice\n",
    "\n",
    "* You can ask the hackathon hero for help, but not too much :)\n",
    "* Please don't to cheat too much :)\n",
    "* Please fork don’t clone on the day\n",
    "* Organise your collaboration and learn about the subject at the start \n",
    "* Maybe start simple (even without machine learning) and then employ machine learning\n",
    "* Check the car racing env page on AI gym to remember the reward and observation structure https://gym.openai.com/envs/CarRacing-v0/"
   ]
  },
  {
   "cell_type": "markdown",
   "metadata": {},
   "source": [
    "# The Observation\n",
    "\n",
    "* Here we plot the observation to hint to its content"
   ]
  },
  {
   "cell_type": "code",
   "execution_count": 30,
   "metadata": {},
   "outputs": [
    {
     "data": {
      "image/png": "[encoded data removed]",
      "text/plain": [
       "<Figure size 2520x2520 with 1 Axes>"
      ]
     },
     "metadata": {
      "needs_background": "light"
     },
     "output_type": "display_data"
    }
   ],
   "source": [
    "import matplotlib.pyplot as plt\n",
    "plt.figure(figsize=(35, 35))\n",
    "plt.imshow(observation, interpolation='nearest')\n",
    "plt.show()"
   ]
  },
  {
   "cell_type": "code",
   "execution_count": 31,
   "metadata": {},
   "outputs": [
    {
     "data": {
      "text/plain": [
       "array([[[102, 204, 102],\n",
       "        [102, 204, 102],\n",
       "        [102, 204, 102],\n",
       "        ...,\n",
       "        [102, 204, 102],\n",
       "        [102, 204, 102],\n",
       "        [102, 204, 102]],\n",
       "\n",
       "       [[102, 204, 102],\n",
       "        [102, 204, 102],\n",
       "        [102, 204, 102],\n",
       "        ...,\n",
       "        [102, 204, 102],\n",
       "        [102, 204, 102],\n",
       "        [102, 204, 102]],\n",
       "\n",
       "       [[102, 204, 102],\n",
       "        [102, 204, 102],\n",
       "        [102, 204, 102],\n",
       "        ...,\n",
       "        [102, 204, 102],\n",
       "        [102, 204, 102],\n",
       "        [102, 204, 102]],\n",
       "\n",
       "       ...,\n",
       "\n",
       "       [[  0,   0,   0],\n",
       "        [  0,   0,   0],\n",
       "        [  0,   0,   0],\n",
       "        ...,\n",
       "        [  0,   0,   0],\n",
       "        [  0,   0,   0],\n",
       "        [  0,   0,   0]],\n",
       "\n",
       "       [[  0,   0,   0],\n",
       "        [  0,   0,   0],\n",
       "        [  0,   0,   0],\n",
       "        ...,\n",
       "        [  0,   0,   0],\n",
       "        [  0,   0,   0],\n",
       "        [  0,   0,   0]],\n",
       "\n",
       "       [[  0,   0,   0],\n",
       "        [  0,   0,   0],\n",
       "        [  0,   0,   0],\n",
       "        ...,\n",
       "        [  0,   0,   0],\n",
       "        [  0,   0,   0],\n",
       "        [  0,   0,   0]]], dtype=uint8)"
      ]
     },
     "execution_count": 31,
     "metadata": {},
     "output_type": "execute_result"
    }
   ],
   "source": [
    "observation"
   ]
  },
  {
   "cell_type": "code",
   "execution_count": null,
   "metadata": {},
   "outputs": [],
   "source": []
  }
 ],
 "metadata": {
  "kernelspec": {
   "display_name": "Python 3",
   "language": "python",
   "name": "python3"
  },
  "language_info": {
   "codemirror_mode": {
    "name": "ipython",
    "version": 3
   },
   "file_extension": ".py",
   "mimetype": "text/x-python",
   "name": "python",
   "nbconvert_exporter": "python",
   "pygments_lexer": "ipython3",
   "version": "3.8.2"
  }
 },
 "nbformat": 4,
 "nbformat_minor": 2
}
